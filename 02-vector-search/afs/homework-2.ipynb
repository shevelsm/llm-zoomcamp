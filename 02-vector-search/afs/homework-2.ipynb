{
 "cells": [
  {
   "cell_type": "code",
   "execution_count": 1,
   "id": "c6b20adb",
   "metadata": {},
   "outputs": [],
   "source": [
    "from fastembed import TextEmbedding"
   ]
  },
  {
   "cell_type": "markdown",
   "id": "9ba3e76f",
   "metadata": {},
   "source": [
    "## Q1. Embedding the query"
   ]
  },
  {
   "cell_type": "code",
   "execution_count": 2,
   "id": "82566f99",
   "metadata": {},
   "outputs": [
    {
     "name": "stdout",
     "output_type": "stream",
     "text": [
      "-0.11726373885183883\n"
     ]
    }
   ],
   "source": [
    "query = 'I just discovered the course. Can I join now?'\n",
    "\n",
    "embedder = TextEmbedding(model_name=\"jinaai/jina-embeddings-v2-small-en\")\n",
    "query_embedding = embedder.embed([query])\n",
    "\n",
    "query_vector = next(query_embedding)\n",
    "print(query_vector.min())"
   ]
  },
  {
   "cell_type": "markdown",
   "id": "b9a57d19",
   "metadata": {},
   "source": [
    "Result Q1: -0.11"
   ]
  },
  {
   "cell_type": "code",
   "execution_count": 3,
   "id": "a6df3861",
   "metadata": {},
   "outputs": [
    {
     "data": {
      "text/plain": [
       "np.float64(1.0)"
      ]
     },
     "execution_count": 3,
     "metadata": {},
     "output_type": "execute_result"
    }
   ],
   "source": [
    "import numpy as np\n",
    "np.linalg.norm(query_vector)"
   ]
  },
  {
   "cell_type": "code",
   "execution_count": 4,
   "id": "b28ded1e",
   "metadata": {},
   "outputs": [
    {
     "data": {
      "text/plain": [
       "np.float64(1.0000000000000002)"
      ]
     },
     "execution_count": 4,
     "metadata": {},
     "output_type": "execute_result"
    }
   ],
   "source": [
    "query_vector.dot(query_vector)"
   ]
  },
  {
   "cell_type": "markdown",
   "id": "34532e80",
   "metadata": {},
   "source": [
    "## Q2. Cosine similarity with another vector"
   ]
  },
  {
   "cell_type": "code",
   "execution_count": 7,
   "id": "3b3a566a",
   "metadata": {},
   "outputs": [],
   "source": [
    "doc = 'Can I still join the course after the start date?'\n",
    "doc_embedding = embedder.embed([doc])\n",
    "\n",
    "doc_vector = next(doc_embedding)"
   ]
  },
  {
   "cell_type": "code",
   "execution_count": 9,
   "id": "f37528f5",
   "metadata": {},
   "outputs": [
    {
     "data": {
      "text/plain": [
       "np.float64(0.9008528895674548)"
      ]
     },
     "execution_count": 9,
     "metadata": {},
     "output_type": "execute_result"
    }
   ],
   "source": [
    "dot_product = query_vector.dot(doc_vector)\n",
    "dot_product"
   ]
  },
  {
   "cell_type": "markdown",
   "id": "98be3b0f",
   "metadata": {},
   "source": [
    "## Question 3. Ranking by cosine"
   ]
  },
  {
   "cell_type": "code",
   "execution_count": 10,
   "id": "d2b33ae1",
   "metadata": {},
   "outputs": [],
   "source": [
    "documents = [{'text': \"Yes, even if you don't register, you're still eligible to submit the homeworks.\\nBe aware, however, that there will be deadlines for turning in the final projects. So don't leave everything for the last minute.\",\n",
    "  'section': 'General course-related questions',\n",
    "  'question': 'Course - Can I still join the course after the start date?',\n",
    "  'course': 'data-engineering-zoomcamp'},\n",
    " {'text': 'Yes, we will keep all the materials after the course finishes, so you can follow the course at your own pace after it finishes.\\nYou can also continue looking at the homeworks and continue preparing for the next cohort. I guess you can also start working on your final capstone project.',\n",
    "  'section': 'General course-related questions',\n",
    "  'question': 'Course - Can I follow the course after it finishes?',\n",
    "  'course': 'data-engineering-zoomcamp'},\n",
    " {'text': \"The purpose of this document is to capture frequently asked technical questions\\nThe exact day and hour of the course will be 15th Jan 2024 at 17h00. The course will start with the first  “Office Hours'' live.1\\nSubscribe to course public Google Calendar (it works from Desktop only).\\nRegister before the course starts using this link.\\nJoin the course Telegram channel with announcements.\\nDon’t forget to register in DataTalks.Club's Slack and join the channel.\",\n",
    "  'section': 'General course-related questions',\n",
    "  'question': 'Course - When will the course start?',\n",
    "  'course': 'data-engineering-zoomcamp'},\n",
    " {'text': 'You can start by installing and setting up all the dependencies and requirements:\\nGoogle cloud account\\nGoogle Cloud SDK\\nPython 3 (installed with Anaconda)\\nTerraform\\nGit\\nLook over the prerequisites and syllabus to see if you are comfortable with these subjects.',\n",
    "  'section': 'General course-related questions',\n",
    "  'question': 'Course - What can I do before the course starts?',\n",
    "  'course': 'data-engineering-zoomcamp'},\n",
    " {'text': 'Star the repo! Share it with friends if you find it useful ❣️\\nCreate a PR if you see you can improve the text or the structure of the repository.',\n",
    "  'section': 'General course-related questions',\n",
    "  'question': 'How can we contribute to the course?',\n",
    "  'course': 'data-engineering-zoomcamp'}]"
   ]
  },
  {
   "cell_type": "code",
   "execution_count": 26,
   "id": "25ab9789",
   "metadata": {},
   "outputs": [],
   "source": [
    "text_embeddings = list(embedder.embed([doc['text'] for doc in documents]))\n",
    "V = np.stack(text_embeddings)"
   ]
  },
  {
   "cell_type": "code",
   "execution_count": 31,
   "id": "f3c99288",
   "metadata": {},
   "outputs": [
    {
     "name": "stdout",
     "output_type": "stream",
     "text": [
      "0 0.7629684696540238\n",
      "1 0.8182378150042889\n",
      "2 0.8085397398734189\n",
      "3 0.7133079015686243\n",
      "4 0.7304499234333598\n",
      "\n",
      "Max cosine similarity: 0.8182378150042889 at index 1\n",
      "\n",
      "I just discovered the course. Can I join now?\n",
      "Course - Can I follow the course after it finishes?\n",
      "Yes, we will keep all the materials after the course finishes, so you can follow the course at your own pace after it finishes.\n",
      "You can also continue looking at the homeworks and continue preparing for the next cohort. I guess you can also start working on your final capstone project.\n"
     ]
    }
   ],
   "source": [
    "max_cosine = -1.0\n",
    "max_index = -1\n",
    "\n",
    "for i, v in enumerate(V):\n",
    "    cosine = query_vector.dot(v)\n",
    "    print(i, cosine)\n",
    "    if cosine > max_cosine:\n",
    "        max_cosine = cosine\n",
    "        max_index = i\n",
    "\n",
    "print(f'\\nMax cosine similarity: {max_cosine} at index {max_index}\\n')\n",
    "print(query)\n",
    "print(documents[max_index][\"question\"])\n",
    "print(documents[max_index][\"text\"])"
   ]
  },
  {
   "cell_type": "markdown",
   "id": "e74511d7",
   "metadata": {},
   "source": [
    "Result: 1"
   ]
  },
  {
   "cell_type": "markdown",
   "id": "0500b7c3",
   "metadata": {},
   "source": [
    "## Q4. Ranking by cosine, version two"
   ]
  },
  {
   "cell_type": "code",
   "execution_count": 32,
   "id": "bac745d7",
   "metadata": {},
   "outputs": [
    {
     "name": "stdout",
     "output_type": "stream",
     "text": [
      "0 0.8514543236908068\n",
      "1 0.8436594159113068\n",
      "2 0.8408287048502558\n",
      "3 0.7755157969663908\n",
      "4 0.8086007795043938\n",
      "\n",
      "Max cosine similarity: 0.8514543236908068 at index 0\n",
      "\n",
      "I just discovered the course. Can I join now?\n",
      "Course - Can I still join the course after the start date?\n",
      "Yes, even if you don't register, you're still eligible to submit the homeworks.\n",
      "Be aware, however, that there will be deadlines for turning in the final projects. So don't leave everything for the last minute.\n"
     ]
    }
   ],
   "source": [
    "text_embeddings = list(embedder.embed([doc['question'] + ' ' + doc['text'] for doc in documents]))\n",
    "V_question = np.stack(text_embeddings)\n",
    "\n",
    "max_cosine = -1.0\n",
    "max_index = -1\n",
    "\n",
    "for i, v in enumerate(V_question):\n",
    "    cosine = query_vector.dot(v)\n",
    "    print(i, cosine)\n",
    "    if cosine > max_cosine:\n",
    "        max_cosine = cosine\n",
    "        max_index = i\n",
    "\n",
    "print(f'\\nMax cosine similarity: {max_cosine} at index {max_index}\\n')\n",
    "print(query)\n",
    "print(documents[max_index][\"question\"])\n",
    "print(documents[max_index][\"text\"])"
   ]
  },
  {
   "cell_type": "markdown",
   "id": "122438a1",
   "metadata": {},
   "source": [
    "Result: 0"
   ]
  },
  {
   "cell_type": "markdown",
   "id": "8f3d5aa1",
   "metadata": {},
   "source": [
    "## Q5. Selecting the embedding model"
   ]
  },
  {
   "cell_type": "code",
   "execution_count": 34,
   "id": "068f705c",
   "metadata": {},
   "outputs": [
    {
     "data": {
      "text/plain": [
       "['EMBEDDINGS_REGISTRY',\n",
       " 'METADATA_FILE',\n",
       " '__annotations__',\n",
       " '__class__',\n",
       " '__class_getitem__',\n",
       " '__delattr__',\n",
       " '__dict__',\n",
       " '__dir__',\n",
       " '__doc__',\n",
       " '__eq__',\n",
       " '__format__',\n",
       " '__ge__',\n",
       " '__getattribute__',\n",
       " '__getstate__',\n",
       " '__gt__',\n",
       " '__hash__',\n",
       " '__init__',\n",
       " '__init_subclass__',\n",
       " '__le__',\n",
       " '__lt__',\n",
       " '__module__',\n",
       " '__ne__',\n",
       " '__new__',\n",
       " '__orig_bases__',\n",
       " '__parameters__',\n",
       " '__reduce__',\n",
       " '__reduce_ex__',\n",
       " '__repr__',\n",
       " '__setattr__',\n",
       " '__sizeof__',\n",
       " '__slots__',\n",
       " '__str__',\n",
       " '__subclasshook__',\n",
       " '__weakref__',\n",
       " '_get_model_description',\n",
       " '_is_protocol',\n",
       " '_list_supported_models',\n",
       " 'add_custom_model',\n",
       " 'decompress_to_cache',\n",
       " 'download_file_from_gcs',\n",
       " 'download_files_from_huggingface',\n",
       " 'download_model',\n",
       " 'embed',\n",
       " 'list_supported_models',\n",
       " 'passage_embed',\n",
       " 'query_embed',\n",
       " 'retrieve_model_gcs']"
      ]
     },
     "execution_count": 34,
     "metadata": {},
     "output_type": "execute_result"
    }
   ],
   "source": [
    "dir(TextEmbedding)"
   ]
  },
  {
   "cell_type": "code",
   "execution_count": 37,
   "id": "06ed5234",
   "metadata": {},
   "outputs": [
    {
     "name": "stdout",
     "output_type": "stream",
     "text": [
      "384\n"
     ]
    }
   ],
   "source": [
    "print(min([model['dim'] for model in TextEmbedding.list_supported_models()]))"
   ]
  },
  {
   "cell_type": "markdown",
   "id": "408ebf61",
   "metadata": {},
   "source": [
    "Result: 384"
   ]
  },
  {
   "cell_type": "markdown",
   "id": "61fcd2a7",
   "metadata": {},
   "source": [
    "## Q6. Indexing with qdrant (2 points)"
   ]
  },
  {
   "cell_type": "code",
   "execution_count": 38,
   "id": "fbf8b98c",
   "metadata": {},
   "outputs": [],
   "source": [
    "import requests \n",
    "\n",
    "docs_url = 'https://github.com/alexeygrigorev/llm-rag-workshop/raw/main/notebooks/documents.json'\n",
    "docs_response = requests.get(docs_url)\n",
    "documents_raw = docs_response.json()\n",
    "\n",
    "\n",
    "documents = []\n",
    "\n",
    "for course in documents_raw:\n",
    "    course_name = course['course']\n",
    "    if course_name != 'machine-learning-zoomcamp':\n",
    "        continue\n",
    "\n",
    "    for doc in course['documents']:\n",
    "        doc['course'] = course_name\n",
    "        documents.append(doc)"
   ]
  },
  {
   "cell_type": "code",
   "execution_count": 39,
   "id": "463c5621",
   "metadata": {},
   "outputs": [
    {
     "data": {
      "application/vnd.jupyter.widget-view+json": {
       "model_id": "d1e9fefe73d047c09fa53c1c7b81093e",
       "version_major": 2,
       "version_minor": 0
      },
      "text/plain": [
       "Fetching 5 files:   0%|          | 0/5 [00:00<?, ?it/s]"
      ]
     },
     "metadata": {},
     "output_type": "display_data"
    },
    {
     "data": {
      "application/vnd.jupyter.widget-view+json": {
       "model_id": "0067ca080ca94ee3a91a393d8560851f",
       "version_major": 2,
       "version_minor": 0
      },
      "text/plain": [
       "tokenizer.json:   0%|          | 0.00/711k [00:00<?, ?B/s]"
      ]
     },
     "metadata": {},
     "output_type": "display_data"
    },
    {
     "data": {
      "application/vnd.jupyter.widget-view+json": {
       "model_id": "3972b57ed1cf48eb9aa2c85b6b462a6a",
       "version_major": 2,
       "version_minor": 0
      },
      "text/plain": [
       "tokenizer_config.json:   0%|          | 0.00/366 [00:00<?, ?B/s]"
      ]
     },
     "metadata": {},
     "output_type": "display_data"
    },
    {
     "data": {
      "application/vnd.jupyter.widget-view+json": {
       "model_id": "53cc26a5b26e42df8347e34dca4142ec",
       "version_major": 2,
       "version_minor": 0
      },
      "text/plain": [
       "special_tokens_map.json:   0%|          | 0.00/125 [00:00<?, ?B/s]"
      ]
     },
     "metadata": {},
     "output_type": "display_data"
    },
    {
     "data": {
      "application/vnd.jupyter.widget-view+json": {
       "model_id": "4f3532a826564ce382cecac3923c3ba2",
       "version_major": 2,
       "version_minor": 0
      },
      "text/plain": [
       "model_optimized.onnx:   0%|          | 0.00/133M [00:00<?, ?B/s]"
      ]
     },
     "metadata": {},
     "output_type": "display_data"
    },
    {
     "data": {
      "application/vnd.jupyter.widget-view+json": {
       "model_id": "bfb7ec778de34e59addb56029d5bcec0",
       "version_major": 2,
       "version_minor": 0
      },
      "text/plain": [
       "config.json:   0%|          | 0.00/701 [00:00<?, ?B/s]"
      ]
     },
     "metadata": {},
     "output_type": "display_data"
    }
   ],
   "source": [
    "embedder_bge_small = TextEmbedding(model_name=\"BAAI/bge-small-en\")"
   ]
  },
  {
   "cell_type": "code",
   "execution_count": 40,
   "id": "b590db51",
   "metadata": {},
   "outputs": [],
   "source": [
    "text_embeddings = list(embedder.embed([doc['question'] + ' ' + doc['text'] for doc in documents]))\n",
    "V_bge_small = np.stack(text_embeddings)"
   ]
  },
  {
   "cell_type": "code",
   "execution_count": 43,
   "id": "17ea8135",
   "metadata": {},
   "outputs": [
    {
     "name": "stdout",
     "output_type": "stream",
     "text": [
      "\n",
      "Max cosine similarity: 0.8620737682350726 at index 14\n",
      "\n",
      "I just discovered the course. Can I join now?\n",
      "The course has already started. Can I still join it?\n",
      "Yes, you can. You won’t be able to submit some of the homeworks, but you can still take part in the course.\n",
      "In order to get a certificate, you need to submit 2 out of 3 course projects and review 3 peers’ Projects by the deadline. It means that if you join the course at the end of November and manage to work on two projects, you will still be eligible for a certificate.\n"
     ]
    }
   ],
   "source": [
    "max_cosine = -1.0\n",
    "max_index = -1\n",
    "\n",
    "for i, v in enumerate(V_bge_small):\n",
    "    cosine = query_vector.dot(v)\n",
    "    if cosine > max_cosine:\n",
    "        max_cosine = cosine\n",
    "        max_index = i\n",
    "\n",
    "print(f'\\nMax cosine similarity: {max_cosine} at index {max_index}\\n')\n",
    "print(query)\n",
    "print(documents[max_index][\"question\"])\n",
    "print(documents[max_index][\"text\"])"
   ]
  }
 ],
 "metadata": {
  "kernelspec": {
   "display_name": "llm-zoomcamp",
   "language": "python",
   "name": "python3"
  },
  "language_info": {
   "codemirror_mode": {
    "name": "ipython",
    "version": 3
   },
   "file_extension": ".py",
   "mimetype": "text/x-python",
   "name": "python",
   "nbconvert_exporter": "python",
   "pygments_lexer": "ipython3",
   "version": "3.11.4"
  }
 },
 "nbformat": 4,
 "nbformat_minor": 5
}
